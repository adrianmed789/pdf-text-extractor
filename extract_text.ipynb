import fitz  # PyMuPDF

def extract_text_from_pdf(pdf_path, txt_path):
    # Abrir el archivo PDF
    document = fitz.open(pdf_path)
    text = ""

    # Iterar sobre cada página del PDF
    for page_num in range(len(document)):
        page = document.load_page(page_num)
        text += page.get_text()

    # Procesar el texto para eliminar saltos de línea innecesarios
    text = text.replace("\n", " ")

    # Guardar el texto en un archivo .txt
    with open(txt_path, "w", encoding="utf-8") as txt_file:
        txt_file.write(text)

# Ruta del archivo PDF y ruta de salida para el archivo .txt
pdf_path = "nombre_de_tu_archivo.pdf"
txt_path = "salida.txt"

extract_text_from_pdf(pdf_path, txt_path)
